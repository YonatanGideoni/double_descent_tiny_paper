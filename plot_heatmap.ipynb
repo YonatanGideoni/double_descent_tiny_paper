{
 "cells": [
  {
   "cell_type": "markdown",
   "metadata": {},
   "source": [
    "Imports:"
   ]
  },
  {
   "cell_type": "code",
   "execution_count": 2,
   "metadata": {},
   "outputs": [
    {
     "ename": "ImportError",
     "evalue": "\n\nIMPORTANT: PLEASE READ THIS FOR ADVICE ON HOW TO SOLVE THIS ISSUE!\n\nImporting the numpy C-extensions failed. This error can happen for\nmany reasons, often due to issues with your setup or how NumPy was\ninstalled.\n\nWe have compiled some common reasons and troubleshooting tips at:\n\n    https://numpy.org/devdocs/user/troubleshooting-importerror.html\n\nPlease note and check the following:\n\n  * The Python version is: Python3.8 from \"C:\\Users\\Yonatan Gideoni\\Desktop\\Cambridge\\General research\\self_sup_double_d\\.venv\\Scripts\\python.exe\"\n  * The NumPy version is: \"1.24.2\"\n\nand make sure that they are the versions you expect.\nPlease carefully study the documentation linked above for further help.\n\nOriginal error was: DLL load failed while importing _multiarray_umath: The specified module could not be found.\n",
     "output_type": "error",
     "traceback": [
      "\u001B[1;31m---------------------------------------------------------------------------\u001B[0m",
      "\u001B[1;31mImportError\u001B[0m                               Traceback (most recent call last)",
      "File \u001B[1;32m~\\Desktop\\Cambridge\\General research\\self_sup_double_d\\.venv\\lib\\site-packages\\numpy\\core\\__init__.py:23\u001B[0m\n\u001B[0;32m     22\u001B[0m \u001B[38;5;28;01mtry\u001B[39;00m:\n\u001B[1;32m---> 23\u001B[0m     \u001B[38;5;28;01mfrom\u001B[39;00m \u001B[38;5;21;01m.\u001B[39;00m \u001B[38;5;28;01mimport\u001B[39;00m multiarray\n\u001B[0;32m     24\u001B[0m \u001B[38;5;28;01mexcept\u001B[39;00m \u001B[38;5;167;01mImportError\u001B[39;00m \u001B[38;5;28;01mas\u001B[39;00m exc:\n",
      "File \u001B[1;32m~\\Desktop\\Cambridge\\General research\\self_sup_double_d\\.venv\\lib\\site-packages\\numpy\\core\\multiarray.py:10\u001B[0m\n\u001B[0;32m      9\u001B[0m \u001B[38;5;28;01mimport\u001B[39;00m \u001B[38;5;21;01mfunctools\u001B[39;00m\n\u001B[1;32m---> 10\u001B[0m \u001B[38;5;28;01mfrom\u001B[39;00m \u001B[38;5;21;01m.\u001B[39;00m \u001B[38;5;28;01mimport\u001B[39;00m overrides\n\u001B[0;32m     11\u001B[0m \u001B[38;5;28;01mfrom\u001B[39;00m \u001B[38;5;21;01m.\u001B[39;00m \u001B[38;5;28;01mimport\u001B[39;00m _multiarray_umath\n",
      "File \u001B[1;32m~\\Desktop\\Cambridge\\General research\\self_sup_double_d\\.venv\\lib\\site-packages\\numpy\\core\\overrides.py:6\u001B[0m\n\u001B[0;32m      4\u001B[0m \u001B[38;5;28;01mimport\u001B[39;00m \u001B[38;5;21;01mos\u001B[39;00m\n\u001B[1;32m----> 6\u001B[0m \u001B[38;5;28;01mfrom\u001B[39;00m \u001B[38;5;21;01mnumpy\u001B[39;00m\u001B[38;5;21;01m.\u001B[39;00m\u001B[38;5;21;01mcore\u001B[39;00m\u001B[38;5;21;01m.\u001B[39;00m\u001B[38;5;21;01m_multiarray_umath\u001B[39;00m \u001B[38;5;28;01mimport\u001B[39;00m (\n\u001B[0;32m      7\u001B[0m     add_docstring, implement_array_function, _get_implementing_args)\n\u001B[0;32m      8\u001B[0m \u001B[38;5;28;01mfrom\u001B[39;00m \u001B[38;5;21;01mnumpy\u001B[39;00m\u001B[38;5;21;01m.\u001B[39;00m\u001B[38;5;21;01mcompat\u001B[39;00m\u001B[38;5;21;01m.\u001B[39;00m\u001B[38;5;21;01m_inspect\u001B[39;00m \u001B[38;5;28;01mimport\u001B[39;00m getargspec\n",
      "\u001B[1;31mImportError\u001B[0m: DLL load failed while importing _multiarray_umath: The specified module could not be found.",
      "\nDuring handling of the above exception, another exception occurred:\n",
      "\u001B[1;31mImportError\u001B[0m                               Traceback (most recent call last)",
      "Cell \u001B[1;32mIn[2], line 1\u001B[0m\n\u001B[1;32m----> 1\u001B[0m \u001B[38;5;28;01mimport\u001B[39;00m \u001B[38;5;21;01mnumpy\u001B[39;00m \u001B[38;5;28;01mas\u001B[39;00m \u001B[38;5;21;01mnp\u001B[39;00m\n\u001B[0;32m      2\u001B[0m \u001B[38;5;28;01mimport\u001B[39;00m \u001B[38;5;21;01mpandas\u001B[39;00m \u001B[38;5;28;01mas\u001B[39;00m \u001B[38;5;21;01mpd\u001B[39;00m\n\u001B[0;32m      3\u001B[0m \u001B[38;5;28;01mimport\u001B[39;00m \u001B[38;5;21;01mmatplotlib\u001B[39;00m\u001B[38;5;21;01m.\u001B[39;00m\u001B[38;5;21;01mcm\u001B[39;00m \u001B[38;5;28;01mas\u001B[39;00m \u001B[38;5;21;01mcm\u001B[39;00m\n",
      "File \u001B[1;32m~\\Desktop\\Cambridge\\General research\\self_sup_double_d\\.venv\\lib\\site-packages\\numpy\\__init__.py:141\u001B[0m\n\u001B[0;32m    138\u001B[0m \u001B[38;5;66;03m# Allow distributors to run custom init code\u001B[39;00m\n\u001B[0;32m    139\u001B[0m \u001B[38;5;28;01mfrom\u001B[39;00m \u001B[38;5;21;01m.\u001B[39;00m \u001B[38;5;28;01mimport\u001B[39;00m _distributor_init\n\u001B[1;32m--> 141\u001B[0m \u001B[38;5;28;01mfrom\u001B[39;00m \u001B[38;5;21;01m.\u001B[39;00m \u001B[38;5;28;01mimport\u001B[39;00m core\n\u001B[0;32m    142\u001B[0m \u001B[38;5;28;01mfrom\u001B[39;00m \u001B[38;5;21;01m.\u001B[39;00m\u001B[38;5;21;01mcore\u001B[39;00m \u001B[38;5;28;01mimport\u001B[39;00m \u001B[38;5;241m*\u001B[39m\n\u001B[0;32m    143\u001B[0m \u001B[38;5;28;01mfrom\u001B[39;00m \u001B[38;5;21;01m.\u001B[39;00m \u001B[38;5;28;01mimport\u001B[39;00m compat\n",
      "File \u001B[1;32m~\\Desktop\\Cambridge\\General research\\self_sup_double_d\\.venv\\lib\\site-packages\\numpy\\core\\__init__.py:49\u001B[0m\n\u001B[0;32m     25\u001B[0m     \u001B[38;5;28;01mimport\u001B[39;00m \u001B[38;5;21;01msys\u001B[39;00m\n\u001B[0;32m     26\u001B[0m     msg \u001B[38;5;241m=\u001B[39m \u001B[38;5;124m\"\"\"\u001B[39m\n\u001B[0;32m     27\u001B[0m \n\u001B[0;32m     28\u001B[0m \u001B[38;5;124mIMPORTANT: PLEASE READ THIS FOR ADVICE ON HOW TO SOLVE THIS ISSUE!\u001B[39m\n\u001B[1;32m   (...)\u001B[0m\n\u001B[0;32m     47\u001B[0m \u001B[38;5;124m\"\"\"\u001B[39m \u001B[38;5;241m%\u001B[39m (sys\u001B[38;5;241m.\u001B[39mversion_info[\u001B[38;5;241m0\u001B[39m], sys\u001B[38;5;241m.\u001B[39mversion_info[\u001B[38;5;241m1\u001B[39m], sys\u001B[38;5;241m.\u001B[39mexecutable,\n\u001B[0;32m     48\u001B[0m         __version__, exc)\n\u001B[1;32m---> 49\u001B[0m     \u001B[38;5;28;01mraise\u001B[39;00m \u001B[38;5;167;01mImportError\u001B[39;00m(msg)\n\u001B[0;32m     50\u001B[0m \u001B[38;5;28;01mfinally\u001B[39;00m:\n\u001B[0;32m     51\u001B[0m     \u001B[38;5;28;01mfor\u001B[39;00m envkey \u001B[38;5;129;01min\u001B[39;00m env_added:\n",
      "\u001B[1;31mImportError\u001B[0m: \n\nIMPORTANT: PLEASE READ THIS FOR ADVICE ON HOW TO SOLVE THIS ISSUE!\n\nImporting the numpy C-extensions failed. This error can happen for\nmany reasons, often due to issues with your setup or how NumPy was\ninstalled.\n\nWe have compiled some common reasons and troubleshooting tips at:\n\n    https://numpy.org/devdocs/user/troubleshooting-importerror.html\n\nPlease note and check the following:\n\n  * The Python version is: Python3.8 from \"C:\\Users\\Yonatan Gideoni\\Desktop\\Cambridge\\General research\\self_sup_double_d\\.venv\\Scripts\\python.exe\"\n  * The NumPy version is: \"1.24.2\"\n\nand make sure that they are the versions you expect.\nPlease carefully study the documentation linked above for further help.\n\nOriginal error was: DLL load failed while importing _multiarray_umath: The specified module could not be found.\n"
     ]
    }
   ],
   "source": [
    "import os\n",
    "\n",
    "import numpy as np\n",
    "import pandas as pd\n",
    "import matplotlib.cm as cm\n",
    "import matplotlib as mpl\n",
    "from matplotlib import pyplot as plt\n",
    "from scipy.spatial import Voronoi, voronoi_plot_2d"
   ]
  },
  {
   "cell_type": "code",
   "execution_count": null,
   "metadata": {},
   "outputs": [],
   "source": [
    "data = pd.read_csv(os.path.join('results', 'exp_res_final.csv')).sort_values('n_model_params')"
   ]
  },
  {
   "cell_type": "code",
   "execution_count": 3,
   "metadata": {},
   "outputs": [
    {
     "ename": "NameError",
     "evalue": "name 'data' is not defined",
     "output_type": "error",
     "traceback": [
      "\u001B[1;31m---------------------------------------------------------------------------\u001B[0m",
      "\u001B[1;31mNameError\u001B[0m                                 Traceback (most recent call last)",
      "Cell \u001B[1;32mIn[3], line 1\u001B[0m\n\u001B[1;32m----> 1\u001B[0m data \u001B[38;5;241m=\u001B[39m \u001B[43mdata\u001B[49m[data\u001B[38;5;241m.\u001B[39mepoch \u001B[38;5;241m==\u001B[39m data\u001B[38;5;241m.\u001B[39mepoch\u001B[38;5;241m.\u001B[39mmax()]\n",
      "\u001B[1;31mNameError\u001B[0m: name 'data' is not defined"
     ]
    }
   ],
   "source": [
    "data = data[data.epoch == data.epoch.max()]"
   ]
  },
  {
   "cell_type": "markdown",
   "metadata": {},
   "source": [
    "Main plot, based on https://stackoverflow.com/questions/41244322/how-to-color-voronoi-according-to-a-color-scale-and-the-area-of-each-cell and https://stackoverflow.com/questions/20515554/colorize-voronoi-diagram."
   ]
  },
  {
   "cell_type": "code",
   "execution_count": 4,
   "metadata": {},
   "outputs": [],
   "source": [
    "def voronoi_finite_polygons_2d(vor, radius=None):\n",
    "    \"\"\"\n",
    "    Reconstruct infinite voronoi regions in a 2D diagram to finite\n",
    "    regions.\n",
    "\n",
    "    Parameters\n",
    "    ----------\n",
    "    vor : Voronoi\n",
    "        Input diagram\n",
    "    radius : float, optional\n",
    "        Distance to 'points at infinity'.\n",
    "\n",
    "    Returns\n",
    "    -------\n",
    "    regions : list of tuples\n",
    "        Indices of vertices in each revised Voronoi regions.\n",
    "    vertices : list of tuples\n",
    "        Coordinates for revised Voronoi vertices. Same as coordinates\n",
    "        of input vertices, with 'points at infinity' appended to the\n",
    "        end.\n",
    "\n",
    "    \"\"\"\n",
    "\n",
    "    if vor.points.shape[1] != 2:\n",
    "        raise ValueError(\"Requires 2D input\")\n",
    "\n",
    "    new_regions = []\n",
    "    new_vertices = vor.vertices.tolist()\n",
    "\n",
    "    center = vor.points.mean(axis=0)\n",
    "    if radius is None:\n",
    "        radius = vor.points.ptp().max()\n",
    "\n",
    "    # Construct a map containing all ridges for a given point\n",
    "    all_ridges = {}\n",
    "    for (p1, p2), (v1, v2) in zip(vor.ridge_points, vor.ridge_vertices):\n",
    "        all_ridges.setdefault(p1, []).append((p2, v1, v2))\n",
    "        all_ridges.setdefault(p2, []).append((p1, v1, v2))\n",
    "\n",
    "    # Reconstruct infinite regions\n",
    "    for p1, region in enumerate(vor.point_region):\n",
    "        vertices = vor.regions[region]\n",
    "\n",
    "        if all(v >= 0 for v in vertices):\n",
    "            # finite region\n",
    "            new_regions.append(vertices)\n",
    "            continue\n",
    "\n",
    "        # reconstruct a non-finite region\n",
    "        ridges = all_ridges[p1]\n",
    "        new_region = [v for v in vertices if v >= 0]\n",
    "\n",
    "        for p2, v1, v2 in ridges:\n",
    "            if v2 < 0:\n",
    "                v1, v2 = v2, v1\n",
    "            if v1 >= 0:\n",
    "                # finite ridge: already in the region\n",
    "                continue\n",
    "\n",
    "            # Compute the missing endpoint of an infinite ridge\n",
    "\n",
    "            t = vor.points[p2] - vor.points[p1]  # tangent\n",
    "            t /= np.linalg.norm(t)\n",
    "            n = np.array([-t[1], t[0]])  # normal\n",
    "\n",
    "            midpoint = vor.points[[p1, p2]].mean(axis=0)\n",
    "            direction = np.sign(np.dot(midpoint - center, n)) * n\n",
    "            far_point = vor.vertices[v2] + direction * radius\n",
    "\n",
    "            new_region.append(len(new_vertices))\n",
    "            new_vertices.append(far_point.tolist())\n",
    "\n",
    "        # sort region counterclockwise\n",
    "        vs = np.asarray([new_vertices[v] for v in new_region])\n",
    "        c = vs.mean(axis=0)\n",
    "        angles = np.arctan2(vs[:, 1] - c[1], vs[:, 0] - c[0])\n",
    "        new_region = np.array(new_region)[np.argsort(angles)]\n",
    "\n",
    "        # finish\n",
    "        new_regions.append(new_region.tolist())\n",
    "\n",
    "    return new_regions, np.asarray(new_vertices)"
   ]
  },
  {
   "cell_type": "code",
   "execution_count": 5,
   "metadata": {},
   "outputs": [],
   "source": [
    "def get_logspace_ticks(max_oom: int, min_oom: int = 0):\n",
    "    big_ticks_vals = np.log([10 ** oom for oom in range(min_oom, max_oom + 1)])\n",
    "    big_ticks_text = [f'$10^{oom}$' for oom in range(min_oom, max_oom + 1)]\n",
    "\n",
    "    return big_ticks_vals, big_ticks_text"
   ]
  },
  {
   "cell_type": "code",
   "execution_count": 6,
   "metadata": {},
   "outputs": [],
   "source": [
    "def calc_interp_peak_model_dims(interp_peak_n_params: int, n_feats: int, min_lat: int, max_lat: int, min_hid: int,\n",
    "                                max_hid: int, n_points: int = 2 * 10 ** 4) -> tuple:\n",
    "    lat_dims = np.linspace(min_lat, max_lat, num=n_points)\n",
    "    hid_dims = 0.5 * (interp_peak_n_params - n_feats - lat_dims) / (n_feats + lat_dims + 1)\n",
    "    hid_dims[hid_dims < min_hid] = None\n",
    "    hid_dims[hid_dims > max_hid] = None\n",
    "\n",
    "    return lat_dims, hid_dims"
   ]
  },
  {
   "cell_type": "code",
   "execution_count": 12,
   "metadata": {},
   "outputs": [],
   "source": [
    "def plot_loss_phase_diag(data: pd.DataFrame, big_fs: int = 18, small_fs: int = 16,\n",
    "                         loss_name: str = 'Train', max_lat_oom: int = 4, max_hidden_oom: int = 2,\n",
    "                         debug: bool = False):\n",
    "    # need to make it be a log plot this way because voronoi doesn't explicitly support log-scales\n",
    "    points = np.log(data[['latent_dim', 'hidden_dim']].values)\n",
    "    vor = Voronoi(points)\n",
    "    regions, vertices = voronoi_finite_polygons_2d(vor)\n",
    "\n",
    "    if loss_name == 'Train':\n",
    "        loss = data.train_loss.values\n",
    "    else:\n",
    "        loss = data.test_loss.values\n",
    "    # find min/max values for normalization\n",
    "    minima = loss.min()\n",
    "    maxima = loss.max()\n",
    "\n",
    "    # normalize chosen colormap\n",
    "    norm = mpl.colors.Normalize(vmin=minima, vmax=maxima, clip=True)\n",
    "    mapper = cm.ScalarMappable(norm=norm, cmap=cm.jet)\n",
    "\n",
    "    # plot Voronoi diagram, and fill finite regions with color mapped from loss value\n",
    "    voronoi_plot_2d(vor, show_points=debug, show_vertices=False, line_alpha=debug, ax=plt.gca())\n",
    "    for r, region in enumerate(regions):\n",
    "        polygon = vertices[region]\n",
    "        plt.fill(*zip(*polygon), color=mapper.to_rgba(loss[r]))\n",
    "\n",
    "    cbar = plt.colorbar(mapper)\n",
    "    cbar.set_label(f'{loss_name} Loss', fontsize=big_fs)\n",
    "    cbar.ax.tick_params(labelsize=small_fs)\n",
    "\n",
    "    plt.xlabel('Latent dim.', fontsize=big_fs)\n",
    "    plt.ylabel('Hidden width', fontsize=big_fs)\n",
    "\n",
    "    hid_dim_ticks_vals, hid_dim_ticks_txt = get_logspace_ticks(max_hidden_oom, min_oom=1)\n",
    "    lat_dim_ticks_vals, lat_dim_ticks_txt = get_logspace_ticks(max_lat_oom, min_oom=0)\n",
    "\n",
    "    xstart, xend = plt.gca().get_xlim()\n",
    "    plt.yticks(hid_dim_ticks_vals, hid_dim_ticks_txt, fontsize=small_fs)\n",
    "    plt.xticks(lat_dim_ticks_vals, lat_dim_ticks_txt, fontsize=small_fs)\n",
    "    plt.xlim(xstart, xend)"
   ]
  },
  {
   "cell_type": "code",
   "execution_count": 14,
   "metadata": {},
   "outputs": [],
   "source": [
    "def plot_interp_peak_loc(lat_hid_min_max: tuple, interp_peak_n_params: int, n_feats: int, linestyle: str, label: str):\n",
    "    interp_peak_lat, interp_peak_hid = calc_interp_peak_model_dims(interp_peak_n_params, n_feats,\n",
    "                                                                   *lat_hid_min_max)\n",
    "\n",
    "    plt.plot(np.log(interp_peak_lat), np.log(interp_peak_hid), c='k', zorder=np.inf, linestyle=linestyle,\n",
    "             linewidth=5, label=label)"
   ]
  },
  {
   "cell_type": "markdown",
   "metadata": {},
   "source": [
    "To have the legend be at the bottom instead of the top set `loc=(0.1, -0.28)`"
   ]
  },
  {
   "cell_type": "code",
   "execution_count": 1,
   "metadata": {},
   "outputs": [
    {
     "ename": "NameError",
     "evalue": "name 'plt' is not defined",
     "output_type": "error",
     "traceback": [
      "\u001B[1;31m---------------------------------------------------------------------------\u001B[0m",
      "\u001B[1;31mNameError\u001B[0m                                 Traceback (most recent call last)",
      "Cell \u001B[1;32mIn[1], line 1\u001B[0m\n\u001B[1;32m----> 1\u001B[0m \u001B[43mplt\u001B[49m\u001B[38;5;241m.\u001B[39mfigure(figsize\u001B[38;5;241m=\u001B[39m(\u001B[38;5;241m11\u001B[39m, \u001B[38;5;241m6\u001B[39m), dpi\u001B[38;5;241m=\u001B[39m\u001B[38;5;241m300\u001B[39m)\n\u001B[0;32m      2\u001B[0m plot_loss_phase_diag(data\u001B[38;5;241m.\u001B[39mdrop_duplicates(subset\u001B[38;5;241m=\u001B[39m[\u001B[38;5;124m'\u001B[39m\u001B[38;5;124mlatent_dim\u001B[39m\u001B[38;5;124m'\u001B[39m, \u001B[38;5;124m'\u001B[39m\u001B[38;5;124mhidden_dim\u001B[39m\u001B[38;5;124m'\u001B[39m]), loss_name\u001B[38;5;241m=\u001B[39m\u001B[38;5;124m'\u001B[39m\u001B[38;5;124mTrain\u001B[39m\u001B[38;5;124m'\u001B[39m, debug\u001B[38;5;241m=\u001B[39m\u001B[38;5;28;01mFalse\u001B[39;00m)\n\u001B[0;32m      4\u001B[0m n_feats \u001B[38;5;241m=\u001B[39m \u001B[38;5;241m50\u001B[39m\n",
      "\u001B[1;31mNameError\u001B[0m: name 'plt' is not defined"
     ]
    }
   ],
   "source": [
    "plt.figure(figsize=(11, 6), dpi=300)\n",
    "plot_loss_phase_diag(data.drop_duplicates(subset=['latent_dim', 'hidden_dim']), loss_name='Train', debug=False)\n",
    "\n",
    "n_feats = 50\n",
    "data_lat_dim = 20\n",
    "dataset_size = 5000\n",
    "dims_buffer_fac: float = 10.\n",
    "\n",
    "lat_hid_min_max = (data.latent_dim.min() / dims_buffer_fac, data.latent_dim.max() * dims_buffer_fac,\n",
    "                   data.hidden_dim.min() / dims_buffer_fac, data.hidden_dim.max() * dims_buffer_fac)\n",
    "plot_interp_peak_loc(lat_hid_min_max, dataset_size * n_feats, n_feats, linestyle='dashed', label='# of features')\n",
    "plot_interp_peak_loc(lat_hid_min_max, dataset_size * data_lat_dim, n_feats, linestyle='dotted',\n",
    "                     label=\"Data's latent dim.\")\n",
    "plot_interp_peak_loc(lat_hid_min_max, dataset_size, n_feats, linestyle=None, label='1')\n",
    "\n",
    "plt.legend(title=r'# model params/dataset size=', fontsize=14, title_fontsize=14, loc=(0.1, 1.01), ncol=3)"
   ]
  },
  {
   "cell_type": "code",
   "execution_count": null,
   "outputs": [],
   "source": [
    "plt.figure(figsize=(11, 6), dpi=300)\n",
    "plot_loss_phase_diag(data.drop_duplicates(subset=['latent_dim', 'hidden_dim']), loss_name='Test', debug=False)\n",
    "\n",
    "n_feats = 50\n",
    "data_lat_dim = 20\n",
    "dataset_size = 5000\n",
    "dims_buffer_fac: float = 10.\n",
    "\n",
    "lat_hid_min_max = (data.latent_dim.min() / dims_buffer_fac, data.latent_dim.max() * dims_buffer_fac,\n",
    "                   data.hidden_dim.min() / dims_buffer_fac, data.hidden_dim.max() * dims_buffer_fac)\n",
    "plot_interp_peak_loc(lat_hid_min_max, dataset_size * n_feats, n_feats, linestyle='dashed', label='# of features')\n",
    "plot_interp_peak_loc(lat_hid_min_max, dataset_size * data_lat_dim, n_feats, linestyle='dotted',\n",
    "                     label=\"Data's latent dim.\")\n",
    "plot_interp_peak_loc(lat_hid_min_max, dataset_size, n_feats, linestyle=None, label='1')\n",
    "\n",
    "plt.legend(title=r'# model params/dataset size=', fontsize=14, title_fontsize=14, loc=(0.1, 1.01), ncol=3)"
   ],
   "metadata": {
    "collapsed": false
   }
  }
 ],
 "metadata": {
  "kernelspec": {
   "display_name": "Python 3 (ipykernel)",
   "language": "python",
   "name": "python3"
  },
  "language_info": {
   "codemirror_mode": {
    "name": "ipython",
    "version": 3
   },
   "file_extension": ".py",
   "mimetype": "text/x-python",
   "name": "python",
   "nbconvert_exporter": "python",
   "pygments_lexer": "ipython3",
   "version": "3.8.10"
  }
 },
 "nbformat": 4,
 "nbformat_minor": 1
}
